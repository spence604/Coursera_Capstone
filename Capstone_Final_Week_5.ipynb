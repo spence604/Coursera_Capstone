{
  "nbformat": 4,
  "nbformat_minor": 0,
  "metadata": {
    "colab": {
      "name": "Capstone Final Week 5.ipynb",
      "provenance": [],
      "collapsed_sections": [],
      "authorship_tag": "ABX9TyMM/cVyQQpslzodlW5S29OK",
      "include_colab_link": true
    },
    "kernelspec": {
      "name": "python3",
      "display_name": "Python 3"
    },
    "language_info": {
      "name": "python"
    }
  },
  "cells": [
    {
      "cell_type": "markdown",
      "metadata": {
        "id": "view-in-github",
        "colab_type": "text"
      },
      "source": [
        "<a href=\"https://colab.research.google.com/github/spence604/Coursera_Capstone/blob/main/Capstone_Final_Week_5.ipynb\" target=\"_parent\"><img src=\"https://colab.research.google.com/assets/colab-badge.svg\" alt=\"Open In Colab\"/></a>"
      ]
    },
    {
      "cell_type": "markdown",
      "metadata": {
        "id": "XfwNNYIdIkyY"
      },
      "source": [
        "# **Table of Contents **"
      ]
    },
    {
      "cell_type": "markdown",
      "metadata": {
        "id": "W9xF4O50IwKH"
      },
      "source": [
        "**Intro**"
      ]
    },
    {
      "cell_type": "markdown",
      "metadata": {
        "id": "RQI1yvNkI8HX"
      },
      "source": [
        "New York is the most populous city in the United States, it is also synomous with being the financial hub of the USA as well. Successfully opening a business in a city like this can be a difficult and expensive task. As a data analyst, i hope to provide insight to see if there is too much financial risk involved, or if there will be a large profit. \n",
        "\n",
        "New York City is one of the most diverse cities in the world next to London and Toronto. Because of this, the city has many choices when it comes to international cusisines, there is cuisine for any nationality you can think of. My goal is to find the best location for investors to open a boba/bubble tea shop. Boba is prevalent in Asian-American communities.\n",
        "\n",
        "\n",
        "\n"
      ]
    },
    {
      "cell_type": "markdown",
      "metadata": {
        "id": "VteLvSXaNR6T"
      },
      "source": [
        "**Data Used**"
      ]
    },
    {
      "cell_type": "markdown",
      "metadata": {
        "id": "3eUsdyPdNcqN"
      },
      "source": [
        "\n",
        "\n",
        "1.   I will be scraping demograpic data from Wikipedia https://en.wikipedia.org/wiki/Demographic_history_of_New_York_City\n",
        "2.   New york has 5 Boroughs, i'll also be using wikipedia for data from it as well. https://en.wikipedia.org/wiki/Boroughs_of_New_York_City\n",
        "\n",
        "\n",
        "\n",
        "\n",
        "\n",
        "\n",
        "\n"
      ]
    },
    {
      "cell_type": "code",
      "metadata": {
        "colab": {
          "base_uri": "https://localhost:8080/"
        },
        "id": "eteQNZKfO7gA",
        "outputId": "8ec77458-7c31-4e7a-f184-cc6ac324fb7a"
      },
      "source": [
        "# Import necessarly libraries\n",
        "import numpy as np\n",
        "import pandas as pd \n",
        "pd.set_option('display.max_columns', None)\n",
        "pd.set_option('display.max_rows', None)\n",
        "\n",
        "# library to handle requests\n",
        "import requests \n",
        "\n",
        "import json # library to handle JSON files\n",
        "from pandas.io.json import json_normalize # tranform JSON file into a pandas dataframe\n",
        "\n",
        "# Matplotlib and associated plotting modules\n",
        "import matplotlib.cm as cm\n",
        "import matplotlib.colors as colors\n",
        "import matplotlib.pyplot as plt\n",
        "\n",
        "# this module helps in web scrapping.\n",
        "from bs4 import BeautifulSoup\n",
        "import re\n",
        "\n",
        "#Import k-means from clustering stage\n",
        "from sklearn.cluster import KMeans\n",
        "\n",
        "!conda install -c conda-forge geopy --yes \n",
        "from geopy.geocoders import Nominatim # convert an address into latitude and longitude values\n",
        "\n",
        "! pip install folium\n",
        "import folium # map rendering library\n",
        "\n",
        "!pip install geocoder\n",
        "import geocoder\n",
        "\n",
        "print('Libraries imported.')"
      ],
      "execution_count": 1,
      "outputs": [
        {
          "output_type": "stream",
          "text": [
            "/bin/bash: conda: command not found\n",
            "Requirement already satisfied: folium in /usr/local/lib/python3.7/dist-packages (0.8.3)\n",
            "Requirement already satisfied: six in /usr/local/lib/python3.7/dist-packages (from folium) (1.15.0)\n",
            "Requirement already satisfied: requests in /usr/local/lib/python3.7/dist-packages (from folium) (2.23.0)\n",
            "Requirement already satisfied: numpy in /usr/local/lib/python3.7/dist-packages (from folium) (1.19.5)\n",
            "Requirement already satisfied: jinja2 in /usr/local/lib/python3.7/dist-packages (from folium) (2.11.3)\n",
            "Requirement already satisfied: branca>=0.3.0 in /usr/local/lib/python3.7/dist-packages (from folium) (0.4.2)\n",
            "Requirement already satisfied: chardet<4,>=3.0.2 in /usr/local/lib/python3.7/dist-packages (from requests->folium) (3.0.4)\n",
            "Requirement already satisfied: idna<3,>=2.5 in /usr/local/lib/python3.7/dist-packages (from requests->folium) (2.10)\n",
            "Requirement already satisfied: urllib3!=1.25.0,!=1.25.1,<1.26,>=1.21.1 in /usr/local/lib/python3.7/dist-packages (from requests->folium) (1.24.3)\n",
            "Requirement already satisfied: certifi>=2017.4.17 in /usr/local/lib/python3.7/dist-packages (from requests->folium) (2020.12.5)\n",
            "Requirement already satisfied: MarkupSafe>=0.23 in /usr/local/lib/python3.7/dist-packages (from jinja2->folium) (1.1.1)\n",
            "Collecting geocoder\n",
            "\u001b[?25l  Downloading https://files.pythonhosted.org/packages/4f/6b/13166c909ad2f2d76b929a4227c952630ebaf0d729f6317eb09cbceccbab/geocoder-1.38.1-py2.py3-none-any.whl (98kB)\n",
            "\u001b[K     |████████████████████████████████| 102kB 3.1MB/s \n",
            "\u001b[?25hRequirement already satisfied: six in /usr/local/lib/python3.7/dist-packages (from geocoder) (1.15.0)\n",
            "Collecting ratelim\n",
            "  Downloading https://files.pythonhosted.org/packages/f2/98/7e6d147fd16a10a5f821db6e25f192265d6ecca3d82957a4fdd592cad49c/ratelim-0.1.6-py2.py3-none-any.whl\n",
            "Requirement already satisfied: click in /usr/local/lib/python3.7/dist-packages (from geocoder) (7.1.2)\n",
            "Requirement already satisfied: requests in /usr/local/lib/python3.7/dist-packages (from geocoder) (2.23.0)\n",
            "Requirement already satisfied: future in /usr/local/lib/python3.7/dist-packages (from geocoder) (0.16.0)\n",
            "Requirement already satisfied: decorator in /usr/local/lib/python3.7/dist-packages (from ratelim->geocoder) (4.4.2)\n",
            "Requirement already satisfied: certifi>=2017.4.17 in /usr/local/lib/python3.7/dist-packages (from requests->geocoder) (2020.12.5)\n",
            "Requirement already satisfied: urllib3!=1.25.0,!=1.25.1,<1.26,>=1.21.1 in /usr/local/lib/python3.7/dist-packages (from requests->geocoder) (1.24.3)\n",
            "Requirement already satisfied: idna<3,>=2.5 in /usr/local/lib/python3.7/dist-packages (from requests->geocoder) (2.10)\n",
            "Requirement already satisfied: chardet<4,>=3.0.2 in /usr/local/lib/python3.7/dist-packages (from requests->geocoder) (3.0.4)\n",
            "Installing collected packages: ratelim, geocoder\n",
            "Successfully installed geocoder-1.38.1 ratelim-0.1.6\n",
            "Libraries imported.\n"
          ],
          "name": "stdout"
        }
      ]
    },
    {
      "cell_type": "code",
      "metadata": {
        "id": "tuDWTJTtPKbw"
      },
      "source": [
        "import pandas as pd\n",
        "url = 'https://en.wikipedia.org/wiki/Demographic_history_of_New_York_City'\n",
        "df_list = pd.read_html(url, match = \"Ethnic Make-up of New York City\")\n",
        "\n",
        "\n",
        "\n",
        "\n",
        "\n",
        "\n",
        "\n"
      ],
      "execution_count": 62,
      "outputs": []
    },
    {
      "cell_type": "code",
      "metadata": {
        "colab": {
          "base_uri": "https://localhost:8080/",
          "height": 204
        },
        "id": "oVjSMU13asia",
        "outputId": "77a1f750-9958-4a7a-c5ff-910d44875c46"
      },
      "source": [
        "url = pd.DataFrame(tables[0])\n",
        "url.head()\n"
      ],
      "execution_count": 63,
      "outputs": [
        {
          "output_type": "execute_result",
          "data": {
            "text/html": [
              "<div>\n",
              "<style scoped>\n",
              "    .dataframe tbody tr th:only-of-type {\n",
              "        vertical-align: middle;\n",
              "    }\n",
              "\n",
              "    .dataframe tbody tr th {\n",
              "        vertical-align: top;\n",
              "    }\n",
              "\n",
              "    .dataframe thead th {\n",
              "        text-align: right;\n",
              "    }\n",
              "</style>\n",
              "<table border=\"1\" class=\"dataframe\">\n",
              "  <thead>\n",
              "    <tr style=\"text-align: right;\">\n",
              "      <th></th>\n",
              "      <th>(Ethnic Group, Ethnic Group)</th>\n",
              "      <th>(1991[6], Number)</th>\n",
              "      <th>(1991[6], %)</th>\n",
              "      <th>(2001[7], Number)</th>\n",
              "      <th>(2001[7], %)</th>\n",
              "      <th>(2011[8], Number)</th>\n",
              "      <th>(2011[8], %)</th>\n",
              "      <th>(Change 2001–2011, %)</th>\n",
              "    </tr>\n",
              "  </thead>\n",
              "  <tbody>\n",
              "    <tr>\n",
              "      <th>0</th>\n",
              "      <td>White: British[Note 1]</td>\n",
              "      <td>NaN</td>\n",
              "      <td>NaN</td>\n",
              "      <td>4287861.0</td>\n",
              "      <td>59.79%</td>\n",
              "      <td>3669284</td>\n",
              "      <td>44.89%</td>\n",
              "      <td>14.43%</td>\n",
              "    </tr>\n",
              "    <tr>\n",
              "      <th>1</th>\n",
              "      <td>White: Irish</td>\n",
              "      <td>256470.0</td>\n",
              "      <td>3.83%</td>\n",
              "      <td>220488.0</td>\n",
              "      <td>3.07%</td>\n",
              "      <td>175974</td>\n",
              "      <td>2.15%</td>\n",
              "      <td>20.19%</td>\n",
              "    </tr>\n",
              "    <tr>\n",
              "      <th>2</th>\n",
              "      <td>White: Gypsy or Irish Traveller[Note 2]</td>\n",
              "      <td>NaN</td>\n",
              "      <td>NaN</td>\n",
              "      <td>NaN</td>\n",
              "      <td>NaN</td>\n",
              "      <td>8196</td>\n",
              "      <td>0.10%</td>\n",
              "      <td>NaN</td>\n",
              "    </tr>\n",
              "    <tr>\n",
              "      <th>3</th>\n",
              "      <td>White: Other[Note 1]</td>\n",
              "      <td>NaN</td>\n",
              "      <td>NaN</td>\n",
              "      <td>594854.0</td>\n",
              "      <td>8.29%</td>\n",
              "      <td>1033981</td>\n",
              "      <td>12.65%</td>\n",
              "      <td>73.82%</td>\n",
              "    </tr>\n",
              "    <tr>\n",
              "      <th>4</th>\n",
              "      <td>White: Total</td>\n",
              "      <td>5333580.0</td>\n",
              "      <td>79.80%</td>\n",
              "      <td>5103203.0</td>\n",
              "      <td>71.15%</td>\n",
              "      <td>4887435</td>\n",
              "      <td>59.79%</td>\n",
              "      <td>4.23%</td>\n",
              "    </tr>\n",
              "  </tbody>\n",
              "</table>\n",
              "</div>"
            ],
            "text/plain": [
              "              (Ethnic Group, Ethnic Group)  (1991[6], Number) (1991[6], %)  \\\n",
              "0                   White: British[Note 1]                NaN          NaN   \n",
              "1                             White: Irish           256470.0        3.83%   \n",
              "2  White: Gypsy or Irish Traveller[Note 2]                NaN          NaN   \n",
              "3                     White: Other[Note 1]                NaN          NaN   \n",
              "4                             White: Total          5333580.0       79.80%   \n",
              "\n",
              "   (2001[7], Number) (2001[7], %)  (2011[8], Number) (2011[8], %)  \\\n",
              "0          4287861.0       59.79%            3669284       44.89%   \n",
              "1           220488.0        3.07%             175974        2.15%   \n",
              "2                NaN          NaN               8196        0.10%   \n",
              "3           594854.0        8.29%            1033981       12.65%   \n",
              "4          5103203.0       71.15%            4887435       59.79%   \n",
              "\n",
              "  (Change 2001–2011, %)  \n",
              "0                14.43%  \n",
              "1                20.19%  \n",
              "2                   NaN  \n",
              "3                73.82%  \n",
              "4                 4.23%  "
            ]
          },
          "metadata": {
            "tags": []
          },
          "execution_count": 63
        }
      ]
    },
    {
      "cell_type": "code",
      "metadata": {
        "colab": {
          "base_uri": "https://localhost:8080/"
        },
        "id": "gwUat4g8bx0u",
        "outputId": "fb1e366b-6fcd-4c99-91ea-db029cab31e5"
      },
      "source": [
        "# Check number of variables and names\n",
        "print(\"There are\", len(url.columns), \"columns in the dataframe\")\n",
        "print(url.columns)\n"
      ],
      "execution_count": 58,
      "outputs": [
        {
          "output_type": "stream",
          "text": [
            "There are 8 columns in the dataframe\n",
            "MultiIndex([(    'Ethnic Group', 'Ethnic Group'),\n",
            "            (         '1991[6]',       'Number'),\n",
            "            (         '1991[6]',            '%'),\n",
            "            (         '2001[7]',       'Number'),\n",
            "            (         '2001[7]',            '%'),\n",
            "            (         '2011[8]',       'Number'),\n",
            "            (         '2011[8]',            '%'),\n",
            "            ('Change 2001–2011',            '%')],\n",
            "           )\n"
          ],
          "name": "stdout"
        }
      ]
    },
    {
      "cell_type": "code",
      "metadata": {
        "colab": {
          "base_uri": "https://localhost:8080/",
          "height": 204
        },
        "id": "nFHFYmjeb773",
        "outputId": "ac0a81af-8fb7-43e7-9f37-2a958a023e3c"
      },
      "source": [
        "# flatten index and convert it into single index column dataframe\n",
        "url.columns = url.columns.to_flat_index()\n",
        "url.head()\n"
      ],
      "execution_count": 59,
      "outputs": [
        {
          "output_type": "execute_result",
          "data": {
            "text/html": [
              "<div>\n",
              "<style scoped>\n",
              "    .dataframe tbody tr th:only-of-type {\n",
              "        vertical-align: middle;\n",
              "    }\n",
              "\n",
              "    .dataframe tbody tr th {\n",
              "        vertical-align: top;\n",
              "    }\n",
              "\n",
              "    .dataframe thead th {\n",
              "        text-align: right;\n",
              "    }\n",
              "</style>\n",
              "<table border=\"1\" class=\"dataframe\">\n",
              "  <thead>\n",
              "    <tr style=\"text-align: right;\">\n",
              "      <th></th>\n",
              "      <th>(Ethnic Group, Ethnic Group)</th>\n",
              "      <th>(1991[6], Number)</th>\n",
              "      <th>(1991[6], %)</th>\n",
              "      <th>(2001[7], Number)</th>\n",
              "      <th>(2001[7], %)</th>\n",
              "      <th>(2011[8], Number)</th>\n",
              "      <th>(2011[8], %)</th>\n",
              "      <th>(Change 2001–2011, %)</th>\n",
              "    </tr>\n",
              "  </thead>\n",
              "  <tbody>\n",
              "    <tr>\n",
              "      <th>0</th>\n",
              "      <td>White: British[Note 1]</td>\n",
              "      <td>NaN</td>\n",
              "      <td>NaN</td>\n",
              "      <td>4287861.0</td>\n",
              "      <td>59.79%</td>\n",
              "      <td>3669284</td>\n",
              "      <td>44.89%</td>\n",
              "      <td>14.43%</td>\n",
              "    </tr>\n",
              "    <tr>\n",
              "      <th>1</th>\n",
              "      <td>White: Irish</td>\n",
              "      <td>256470.0</td>\n",
              "      <td>3.83%</td>\n",
              "      <td>220488.0</td>\n",
              "      <td>3.07%</td>\n",
              "      <td>175974</td>\n",
              "      <td>2.15%</td>\n",
              "      <td>20.19%</td>\n",
              "    </tr>\n",
              "    <tr>\n",
              "      <th>2</th>\n",
              "      <td>White: Gypsy or Irish Traveller[Note 2]</td>\n",
              "      <td>NaN</td>\n",
              "      <td>NaN</td>\n",
              "      <td>NaN</td>\n",
              "      <td>NaN</td>\n",
              "      <td>8196</td>\n",
              "      <td>0.10%</td>\n",
              "      <td>NaN</td>\n",
              "    </tr>\n",
              "    <tr>\n",
              "      <th>3</th>\n",
              "      <td>White: Other[Note 1]</td>\n",
              "      <td>NaN</td>\n",
              "      <td>NaN</td>\n",
              "      <td>594854.0</td>\n",
              "      <td>8.29%</td>\n",
              "      <td>1033981</td>\n",
              "      <td>12.65%</td>\n",
              "      <td>73.82%</td>\n",
              "    </tr>\n",
              "    <tr>\n",
              "      <th>4</th>\n",
              "      <td>White: Total</td>\n",
              "      <td>5333580.0</td>\n",
              "      <td>79.80%</td>\n",
              "      <td>5103203.0</td>\n",
              "      <td>71.15%</td>\n",
              "      <td>4887435</td>\n",
              "      <td>59.79%</td>\n",
              "      <td>4.23%</td>\n",
              "    </tr>\n",
              "  </tbody>\n",
              "</table>\n",
              "</div>"
            ],
            "text/plain": [
              "              (Ethnic Group, Ethnic Group)  (1991[6], Number) (1991[6], %)  \\\n",
              "0                   White: British[Note 1]                NaN          NaN   \n",
              "1                             White: Irish           256470.0        3.83%   \n",
              "2  White: Gypsy or Irish Traveller[Note 2]                NaN          NaN   \n",
              "3                     White: Other[Note 1]                NaN          NaN   \n",
              "4                             White: Total          5333580.0       79.80%   \n",
              "\n",
              "   (2001[7], Number) (2001[7], %)  (2011[8], Number) (2011[8], %)  \\\n",
              "0          4287861.0       59.79%            3669284       44.89%   \n",
              "1           220488.0        3.07%             175974        2.15%   \n",
              "2                NaN          NaN               8196        0.10%   \n",
              "3           594854.0        8.29%            1033981       12.65%   \n",
              "4          5103203.0       71.15%            4887435       59.79%   \n",
              "\n",
              "  (Change 2001–2011, %)  \n",
              "0                14.43%  \n",
              "1                20.19%  \n",
              "2                   NaN  \n",
              "3                73.82%  \n",
              "4                 4.23%  "
            ]
          },
          "metadata": {
            "tags": []
          },
          "execution_count": 59
        }
      ]
    },
    {
      "cell_type": "code",
      "metadata": {
        "id": "uVPXcSa6dF6e"
      },
      "source": [
        "# Change column names for clarity\n",
        "url = url.rename(columns={('Ethnic Group', 'Ethnic Group'): 'Ethnic Group'})\n",
        "url = url.rename(columns={('1991[6]', 'Number'): '1991 Census[Number]'})\n",
        "url = url.rename(columns={('1991[6]', '%'): '1991 Census[%]'})\n",
        "url = url.rename(columns={('2001[7]', 'Number'): '2001 Census[Number]'})\n",
        "url = url.rename(columns={('2001[7]', '%'): '2001 Census[%]'})\n",
        "url = url.rename(columns={('2011[8]', 'Number'): '2011 Census[Number]'})\n",
        "url = url.rename(columns={('2011[8]', '%'):'2011 Census[%]'})\n",
        "url = url.rename(columns={('Change 2001–2011', '%'):'Change 2001-2011'})\n",
        "\n",
        "# Checking whether all column names are string\n",
        "print(url.columns)\n",
        "all(isinstance(column, str) for column in url.columns)"
      ],
      "execution_count": null,
      "outputs": []
    }
  ]
}